{
 "cells": [
  {
   "cell_type": "code",
   "execution_count": null,
   "metadata": {},
   "outputs": [],
   "source": [
    "# SIMPLE INTEREST CALCULATOR\n",
    "principle = float(input(\"Enter the Principle:  \"))\n",
    "irate = float(input(\"Enter the Rate:  \"))\n",
    "rate = irate / 100\n",
    "time = float(input(\"Enter the Time:  \"))\n",
    "\n",
    "amount = principle * (1 + (rate * time))\n",
    "\n",
    "SI = amount - principle"
   ]
  },
  {
   "cell_type": "code",
   "execution_count": null,
   "metadata": {},
   "outputs": [],
   "source": [
    "# COMPOUND INTEREST CALCULATOR\n",
    "principle = float(input(\"Enter the Principle:  \"))\n",
    "irate = float(input(\"Enter the Rate:  \"))\n",
    "rate = irate / 100\n",
    "time = float(input(\"Enter the Time:  \"))\n",
    "n = float(input(\"Enter the number of compunding anually:  \"))\n",
    "\n",
    "amount = principle * ( (1 + (R/n))) ** (n * time)\n",
    "CI = amount - principle"
   ]
  },
  {
   "cell_type": "code",
   "execution_count": null,
   "metadata": {},
   "outputs": [],
   "source": [
    "# ANNUITY PLAN CALCULATOR\n",
    "PMT = float(input(\"Enter the Regular Payment Amount:  \"))\n",
    "irate = float(input(\"Enter the Rate:  \"))\n",
    "rate = irate / 100\n",
    "time = float(input(\"Enter the Time:  \"))\n",
    "n = float(input(\"Enter the number of payment periods per year:  \"))\n",
    "\n",
    "b1 = ((1 + (rate / n) ** (n * time)) - 1)\n",
    "b2 = (rate / n)\n",
    "amount = PMT * (b1 / b2)"
   ]
  }
 ],
 "metadata": {
  "kernelspec": {
   "display_name": "Python 3 (ipykernel)",
   "language": "python",
   "name": "python3"
  },
  "language_info": {
   "codemirror_mode": {
    "name": "ipython",
    "version": 3
   },
   "file_extension": ".py",
   "mimetype": "text/x-python",
   "name": "python",
   "nbconvert_exporter": "python",
   "pygments_lexer": "ipython3",
   "version": "3.10.9"
  }
 },
 "nbformat": 4,
 "nbformat_minor": 4
}
