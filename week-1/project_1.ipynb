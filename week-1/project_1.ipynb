{
 "cells": [
  {
   "cell_type": "code",
   "execution_count": null,
   "metadata": {},
   "outputs": [],
   "source": [
    "# SIMPLE INTEREST CALCULATOR\n",
    "principle = float(input(\"Enter the Principle:  \"))\n",
    "irate = float(input(\"Enter the Rate:  \"))\n",
    "rate = irate / 100\n",
    "time = float(input(\"Enter the Time:  \"))\n",
    "\n",
    "amount = principle * (1 + (rate * time))\n",
    "\n",
    "SI = amount - principle"
   ]
  },
  {
   "cell_type": "code",
   "execution_count": null,
   "metadata": {},
   "outputs": [],
   "source": [
    "# COMPOUND INTEREST CALCULATOR\n",
    "principle = float(input(\"Enter the Principle:  \"))\n",
    "irate = float(input(\"Enter the Rate:  \"))\n",
    "rate = irate / 100\n",
    "time = float(input(\"Enter the Time:  \"))\n",
    "n = float(input(\"Enter the number of compunding anually:  \"))\n",
    "\n",
    "amount = principle * ( (1 + (R/n))) ** (n * time)\n",
    "CI = amount - principle"
   ]
  },
  {
   "cell_type": "code",
   "execution_count": null,
   "metadata": {},
   "outputs": [],
   "source": [
    "# ANNUITY PLAN CALCULATOR\n",
    "PMT = float(input(\"Enter the Regular Payment Amount:  \"))\n",
    "irate = float(input(\"Enter the Rate:  \"))\n",
    "rate = irate / 100\n",
    "time = float(input(\"Enter the Time:  \"))\n",
    "n = float(input(\"Enter the number of payment periods per year:  \"))\n",
    "\n",
    "b1 = ((1 + (rate / n) ** (n * time)) - 1)\n",
    "b2 = (rate / n)\n",
    "amount = PMT * (b1 / b2)"
   ]
  }
 ],
 "metadata": {
  "kernelspec": {
   "display_name": "Python 3",
   "language": "python",
   "name": "python3"
  },
  "language_info": {
   "codemirror_mode": {
    "name": "ipython",
    "version": 3
   },
   "file_extension": ".py",
   "mimetype": "text/x-python",
   "name": "python",
   "nbconvert_exporter": "python",
   "pygments_lexer": "ipython3",
   "version": "3.10.5"
  },
  "vscode": {
   "interpreter": {
    "hash": "26de051ba29f2982a8de78e945f0abaf191376122a1563185a90213a26c5da77"
   }
  }
 },
 "nbformat": 4,
 "nbformat_minor": 4
}
