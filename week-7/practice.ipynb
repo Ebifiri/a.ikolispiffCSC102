{
 "cells": [
  {
   "cell_type": "code",
   "execution_count": 1,
   "metadata": {},
   "outputs": [
    {
     "name": "stdout",
     "output_type": "stream",
     "text": [
      "I am first call user defined function!\n",
      "I'm second call user defined function\n"
     ]
    }
   ],
   "source": [
    "def printme( str ):\n",
    "    print(str);\n",
    "    return;\n",
    "\n",
    "printme(\"I am first call user defined function!\")\n",
    "printme(\"I'm second call user defined function\")"
   ]
  },
  {
   "cell_type": "code",
   "execution_count": 2,
   "metadata": {},
   "outputs": [
    {
     "name": "stdout",
     "output_type": "stream",
     "text": [
      "Values inside the function:  [10, 20, 30, [1, 2, 3, 4]]\n",
      "Values outside the function:  [10, 20, 30, [1, 2, 3, 4]]\n"
     ]
    }
   ],
   "source": [
    "def changeme( mylist ):\n",
    "    mylist.append([1, 2, 3, 4])\n",
    "    print(\"Values inside the function: \",mylist)\n",
    "    return\n",
    "mylist = [10, 20, 30]\n",
    "changeme( mylist )\n",
    "print(\"Values outside the function: \",mylist)    "
   ]
  },
  {
   "cell_type": "code",
   "execution_count": 4,
   "metadata": {},
   "outputs": [
    {
     "name": "stdout",
     "output_type": "stream",
     "text": [
      "Values inside the function:  [1, 2, 3, 4]\n",
      "Values outside the function:  [10, 20, 30]\n"
     ]
    }
   ],
   "source": [
    "def changeme( mylist ):\n",
    "    mylist = [1, 2, 3, 4]\n",
    "    print(\"Values inside the function: \",mylist)\n",
    "    return\n",
    "mylist = [10, 20, 30]\n",
    "changeme( mylist )\n",
    "print(\"Values outside the function: \",mylist)  "
   ]
  }
 ],
 "metadata": {
  "kernelspec": {
   "display_name": "Python 3",
   "language": "python",
   "name": "python3"
  },
  "language_info": {
   "codemirror_mode": {
    "name": "ipython",
    "version": 3
   },
   "file_extension": ".py",
   "mimetype": "text/x-python",
   "name": "python",
   "nbconvert_exporter": "python",
   "pygments_lexer": "ipython3",
   "version": "3.10.5"
  },
  "orig_nbformat": 4,
  "vscode": {
   "interpreter": {
    "hash": "26de051ba29f2982a8de78e945f0abaf191376122a1563185a90213a26c5da77"
   }
  }
 },
 "nbformat": 4,
 "nbformat_minor": 2
}
