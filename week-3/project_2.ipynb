{
 "cells": [
  {
   "cell_type": "code",
   "execution_count": 4,
   "metadata": {},
   "outputs": [
    {
     "name": "stdout",
     "output_type": "stream",
     "text": [
      "CUBIC EQUATION CALCULATOR\n",
      "ax^3 + bx^2 + cx + d = 0\n"
     ]
    },
    {
     "ename": "ValueError",
     "evalue": "math domain error",
     "output_type": "error",
     "traceback": [
      "\u001b[1;31m---------------------------------------------------------------------------\u001b[0m",
      "\u001b[1;31mValueError\u001b[0m                                Traceback (most recent call last)",
      "Cell \u001b[1;32mIn[4], line 24\u001b[0m\n\u001b[0;32m     22\u001b[0m c1 \u001b[39m=\u001b[39m \u001b[39m1\u001b[39mj\n\u001b[0;32m     23\u001b[0m p \u001b[39m=\u001b[39m \u001b[39m-\u001b[39mb \u001b[39m/\u001b[39m \u001b[39m2\u001b[39m\u001b[39m*\u001b[39ma\n\u001b[1;32m---> 24\u001b[0m z \u001b[39m=\u001b[39m math\u001b[39m.\u001b[39;49msqrt(DI)\n\u001b[0;32m     25\u001b[0m q \u001b[39m=\u001b[39m \u001b[39m-\u001b[39mz\u001b[39m/\u001b[39m \u001b[39m2\u001b[39m\u001b[39m*\u001b[39ma\n\u001b[0;32m     27\u001b[0m x1 \u001b[39m=\u001b[39m p \u001b[39m+\u001b[39m (c1\u001b[39m*\u001b[39mq)\n",
      "\u001b[1;31mValueError\u001b[0m: math domain error"
     ]
    }
   ],
   "source": [
    "import math\n",
    "#CUBIC EQUATION SOLVER\n",
    "print(\"CUBIC EQUATION CALCULATOR\")\n",
    "print(\"ax^3 + bx^2 + cx + d = 0\")\n",
    "a = float(input(\"Enter A: \"))\n",
    "b = float(input(\"Enter B: \"))\n",
    "c = float(input(\"Enter C: \"))\n",
    "d = float(input(\"Enter D: \"))\n",
    "\n",
    "DI = (b**2) - (4 * a * c)\n",
    "if DI > 0:\n",
    "    x1 = (math.sqrt(DI) - b)/ 2 * a\n",
    "    x2 = (-(math.sqrt(DI)) - b)/ 2 * a\n",
    "    x3 = (math.sqrt(DI) - b)/ 2 * a\n",
    "\n",
    "    print(\"The roots are:\")\n",
    "    print(\"x1 = {x1}, x2 = {x2}, x3 = {x3}\")\n",
    "if DI == 0:\n",
    "    x = -b / 2*a\n",
    "    print(\"x = {x}\")\n",
    "if DI < 0:\n",
    "    c1 = 1j\n",
    "    p = -b / 2*a\n",
    "    z = math.sqrt(DI)\n",
    "    q = -z/ 2*a\n",
    "\n",
    "    x1 = p + (c1*q)\n",
    "    x2 = p - (c1*q)\n",
    "\n",
    "    print(\"x1 = {x1}, x2 = {x2}\")\n",
    "print(\"OPERATION COMPLETE\")"
   ]
  },
  {
   "cell_type": "code",
   "execution_count": null,
   "metadata": {},
   "outputs": [],
   "source": [
    "import math\n",
    "#QUARTIC EQUATION SOLVER\n",
    "print(\"QUARTIC EQUATION CALCULATOR\")\n",
    "print(\"ax^4 + bx^3 + cx^2 + dx + e = 0\")\n",
    "a = float(input(\"Enter A: \"))\n",
    "b = float(input(\"Enter B: \"))\n",
    "c = float(input(\"Enter C: \"))\n",
    "d = float(input(\"Enter D: \"))\n",
    "e = float(input(\"Enter E: \"))\n",
    "\n",
    "r = ((-3 * a**2) + b)/ (9 * a**2)\n",
    "q = ((9*a*b) - (27*a**2*d) - (2*b**3))/ (54*a**3)\n",
    "d1 = q**2 + (4*r**3)"
   ]
  }
 ],
 "metadata": {
  "kernelspec": {
   "display_name": "Python 3",
   "language": "python",
   "name": "python3"
  },
  "language_info": {
   "codemirror_mode": {
    "name": "ipython",
    "version": 3
   },
   "file_extension": ".py",
   "mimetype": "text/x-python",
   "name": "python",
   "nbconvert_exporter": "python",
   "pygments_lexer": "ipython3",
   "version": "3.10.5"
  },
  "orig_nbformat": 4,
  "vscode": {
   "interpreter": {
    "hash": "26de051ba29f2982a8de78e945f0abaf191376122a1563185a90213a26c5da77"
   }
  }
 },
 "nbformat": 4,
 "nbformat_minor": 2
}
