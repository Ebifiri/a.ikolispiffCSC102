{
 "cells": [
  {
   "cell_type": "code",
   "execution_count": 2,
   "metadata": {},
   "outputs": [],
   "source": [
    "#CLASS OF 20 STUDENTS: GIRLS\n",
    "girln = {\"Samantha\", \"Jada\",\"Jane\",\"Claire\",\"Elizabeth\",\"Mary\",\"Susan\",\"Waje\",\"Taibat\",\"Lilian\"}\n",
    "girla = {17, 16, 17, 18, 16, 18, 17, 20, 19, 17}\n",
    "girlh = {5.5, 6.0, 5.4, 5.9, 5.6, 5.5, 6.1, 6.0, 5.7, 5.5}\n",
    "girlsc = {80,85,70,60,76,66,87,95,50,49}\n",
    "\n",
    "#CLASS OF 20 STUDENTS: BOYS\n",
    "boyn = {\"Charles\", \"Jude\", \"James\", \"Kelvin\", \"Biodun\", \"Wale\", \"Kunle\", \"Matthew\", \"Tom\", \"Kayode\"}\n",
    "boya = {19, 16, 18, 17, 20, 19, 16, 18, 17, 19}\n",
    "boyh = {5.7, 5.9, 5.8, 6.1, 5.9, 5.5 ,6.1, 5.4, 5.8, 5.7}\n",
    "boysc = {74,87,75,68,66,78,87,98,54,60}\n",
    "\n"
   ]
  }
 ],
 "metadata": {
  "kernelspec": {
   "display_name": "Python 3",
   "language": "python",
   "name": "python3"
  },
  "language_info": {
   "codemirror_mode": {
    "name": "ipython",
    "version": 3
   },
   "file_extension": ".py",
   "mimetype": "text/x-python",
   "name": "python",
   "nbconvert_exporter": "python",
   "pygments_lexer": "ipython3",
   "version": "3.10.5"
  },
  "orig_nbformat": 4,
  "vscode": {
   "interpreter": {
    "hash": "26de051ba29f2982a8de78e945f0abaf191376122a1563185a90213a26c5da77"
   }
  }
 },
 "nbformat": 4,
 "nbformat_minor": 2
}
