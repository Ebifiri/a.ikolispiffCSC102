{
 "cells": [
  {
   "cell_type": "code",
   "execution_count": 1,
   "metadata": {},
   "outputs": [
    {
     "name": "stdout",
     "output_type": "stream",
     "text": [
      "The Name of City 1 after swapping is Nigger\n",
      "The Name of City 2 after swapping is Nigger\n"
     ]
    }
   ],
   "source": [
    "#SWAPPING CITIES\n",
    "city_1 = input(\"Enter the name of City 1: \")\n",
    "city_2 = input(\"Enter the name of City 2: \")\n",
    "\n",
    "temp = city_1\n",
    "city_2 = city_1\n",
    "city_2 = temp\n",
    "\n",
    "print(f\"The Name of City 1 after swapping is {city_1}\")\n",
    "print(f\"The Name of City 2 after swapping is {city_2}\")"
   ]
  },
  {
   "cell_type": "code",
   "execution_count": 4,
   "metadata": {},
   "outputs": [
    {
     "name": "stdout",
     "output_type": "stream",
     "text": [
      "Welcome to the COUPE DE ESCRIVA 2023: FOOTBALL PICKS\n",
      "Madiba: Chubby Obiora-Okafo\n",
      "Blue-Jays: Christopher Uweh\n",
      "Sky-Jays: Alex\n",
      "\n",
      "\n",
      "Madiba: Chubby Obiora-Okafo\n",
      "Blue-Jays: Oladimeji Abaniwondea/Jeffery Awagu\n",
      "Sky-Jays: Alex\n"
     ]
    }
   ],
   "source": [
    "#REPITITION\n",
    "print(\"Welcome to the COUPE DE ESCRIVA 2023: FOOTBALL PICKS\")\n",
    "\n",
    "captain = {\"Madiba:\" : \"Chubby Obiora-Okafo\", \"Blue-Jays:\" : \"Christopher Uweh\", \"Sky-Jays:\" : \"Alex\"}\n",
    "goalkeepers = {\"Madiba:\" : \"Chubby Obiora-Okafo\", \"Blue-Jays:\" : \"Oladimeji Abaniwondea/Jeffery Awagu\", \"Sky-Jays:\" : \"Alex\"}\n",
    "\n",
    "for pick in captain:\n",
    "    print(pick, captain[pick])\n",
    "\n",
    "print(\"\\n\")\n",
    "\n",
    "for pick in goalkeepers:\n",
    "    print(pick, goalkeepers[pick])"
   ]
  }
 ],
 "metadata": {
  "kernelspec": {
   "display_name": "Python 3",
   "language": "python",
   "name": "python3"
  },
  "language_info": {
   "codemirror_mode": {
    "name": "ipython",
    "version": 3
   },
   "file_extension": ".py",
   "mimetype": "text/x-python",
   "name": "python",
   "nbconvert_exporter": "python",
   "pygments_lexer": "ipython3",
   "version": "3.10.5"
  },
  "orig_nbformat": 4,
  "vscode": {
   "interpreter": {
    "hash": "26de051ba29f2982a8de78e945f0abaf191376122a1563185a90213a26c5da77"
   }
  }
 },
 "nbformat": 4,
 "nbformat_minor": 2
}
